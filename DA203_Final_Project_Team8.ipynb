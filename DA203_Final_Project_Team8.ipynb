{
  "cells": [
    {
      "cell_type": "markdown",
      "source": [
        "# TWITTER SENTIMENT ANALYSIS"
      ],
      "metadata": {
        "id": "_Dp4ra6CUMHq"
      },
      "id": "_Dp4ra6CUMHq"
    },
    {
      "cell_type": "markdown",
      "source": [
        "## Data description"
      ],
      "metadata": {
        "id": "ayFmcEqAUr9x"
      },
      "id": "ayFmcEqAUr9x"
    },
    {
      "cell_type": "markdown",
      "source": [
        "The input data size for the project will be a 1.6 million tweet dataset downloaded from Kaggle (about 233MB)The input data structure is a csv of the following form\n",
        "\"label\",\n",
        " \"ID\", \n",
        " \"DateTime\", \n",
        " \"Source\", \n",
        " \"Account\",\"Post\"\n",
        " Column 1 – the polarity of the tweet (enum, int)\n",
        " Column 2– the id of the tweet (alphanumeric)\n",
        " Column 3 – the date of the tweet (UTC)\n",
        " Column 4 – the query which was used on Twitter (NO_QUERY if no query)  Column 5 – the user that tweeted (alphanumeric user id)\n",
        " Column 6 – the text of the tweet\n",
        " The input is classification using the following terminology on the Column 1 (label)0 – negative sentiment4 – positive sentimentThis is the column that is predicted in this project"
      ],
      "metadata": {
        "id": "NoWZAZp2VaXP"
      },
      "id": "NoWZAZp2VaXP"
    },
    {
      "cell_type": "code",
      "execution_count": 142,
      "id": "d966f1fb",
      "metadata": {
        "id": "d966f1fb"
      },
      "outputs": [],
      "source": [
        "import pandas as pd\n",
        "import numpy as np\n",
        "import matplotlib.pyplot as plt\n",
        "\n",
        "from sklearn.impute import SimpleImputer\n",
        "from sklearn.impute import KNNImputer\n",
        "from sklearn.preprocessing import LabelEncoder\n",
        "from sklearn.model_selection import train_test_split\n",
        "from sklearn.tree import DecisionTreeClassifier\n",
        "from sklearn.model_selection import GridSearchCV\n",
        "from sklearn.metrics import classification_report\n",
        "from sklearn.metrics import confusion_matrix\n",
        "from sklearn import tree\n",
        "from sklearn.ensemble import RandomForestClassifier\n",
        "from sklearn.linear_model import LogisticRegression\n",
        "from sklearn.metrics import roc_curve, auc\n",
        "from sklearn.preprocessing import label_binarize\n",
        "from sklearn.inspection import permutation_importance\n",
        "\n",
        "import warnings\n",
        "warnings.filterwarnings(\"ignore\")\n",
        "\n",
        "from mlxtend.plotting import plot_decision_regions\n",
        "\n",
        "from itertools import cycle\n",
        "from math import log\n",
        "from wordcloud import WordCloud,STOPWORDS\n",
        "from nltk.corpus import stopwords\n",
        "\n",
        "import nltk\n",
        "from sklearn.preprocessing import LabelBinarizer\n",
        "from nltk.corpus import stopwords\n",
        "from nltk.stem.porter import PorterStemmer\n",
        "from wordcloud import WordCloud,STOPWORDS\n",
        "from nltk.stem import WordNetLemmatizer\n",
        "from nltk.tokenize import word_tokenize,sent_tokenize\n",
        "from bs4 import BeautifulSoup\n",
        "import re,string,unicodedata\n",
        "from sklearn.metrics import classification_report,confusion_matrix,accuracy_score\n",
        "from sklearn.model_selection import train_test_split\n",
        "from string import punctuation\n",
        "from nltk.corpus import wordnet"
      ]
    },
    {
      "cell_type": "code",
      "source": [
        "from google.colab import drive\n",
        "drive.mount('/content/drive')"
      ],
      "metadata": {
        "colab": {
          "base_uri": "https://localhost:8080/"
        },
        "id": "f7qpoh1XHoVr",
        "outputId": "e4d511a6-efc8-4486-e891-57974ff6e560"
      },
      "id": "f7qpoh1XHoVr",
      "execution_count": 143,
      "outputs": [
        {
          "output_type": "stream",
          "name": "stdout",
          "text": [
            "Drive already mounted at /content/drive; to attempt to forcibly remount, call drive.mount(\"/content/drive\", force_remount=True).\n"
          ]
        }
      ]
    },
    {
      "cell_type": "code",
      "execution_count": 144,
      "id": "08806edd",
      "metadata": {
        "colab": {
          "base_uri": "https://localhost:8080/"
        },
        "id": "08806edd",
        "outputId": "181991f9-caf6-4b74-da05-7b9ce681480e"
      },
      "outputs": [
        {
          "output_type": "stream",
          "name": "stdout",
          "text": [
            "Requirement already satisfied: lightgbm in /usr/local/lib/python3.7/dist-packages (2.2.3)\n",
            "Requirement already satisfied: scipy in /usr/local/lib/python3.7/dist-packages (from lightgbm) (1.4.1)\n",
            "Requirement already satisfied: scikit-learn in /usr/local/lib/python3.7/dist-packages (from lightgbm) (1.0.2)\n",
            "Requirement already satisfied: numpy in /usr/local/lib/python3.7/dist-packages (from lightgbm) (1.21.5)\n",
            "Requirement already satisfied: threadpoolctl>=2.0.0 in /usr/local/lib/python3.7/dist-packages (from scikit-learn->lightgbm) (3.1.0)\n",
            "Requirement already satisfied: joblib>=0.11 in /usr/local/lib/python3.7/dist-packages (from scikit-learn->lightgbm) (1.1.0)\n"
          ]
        }
      ],
      "source": [
        "!pip install lightgbm"
      ]
    },
    {
      "cell_type": "code",
      "execution_count": 145,
      "id": "44c8eff0",
      "metadata": {
        "colab": {
          "base_uri": "https://localhost:8080/"
        },
        "id": "44c8eff0",
        "outputId": "ecb521a7-a332-4b25-b934-5fe7e45622cd"
      },
      "outputs": [
        {
          "output_type": "stream",
          "name": "stdout",
          "text": [
            "Requirement already satisfied: xgboost in /usr/local/lib/python3.7/dist-packages (0.90)\n",
            "Requirement already satisfied: scipy in /usr/local/lib/python3.7/dist-packages (from xgboost) (1.4.1)\n",
            "Requirement already satisfied: numpy in /usr/local/lib/python3.7/dist-packages (from xgboost) (1.21.5)\n"
          ]
        }
      ],
      "source": [
        "!pip install xgboost"
      ]
    },
    {
      "cell_type": "code",
      "source": [
        "!pip install catboost"
      ],
      "metadata": {
        "colab": {
          "base_uri": "https://localhost:8080/"
        },
        "id": "iIQF_Vl4JEVc",
        "outputId": "6e3cc9a9-41a2-4d3b-bded-c26894c3baa5"
      },
      "id": "iIQF_Vl4JEVc",
      "execution_count": 146,
      "outputs": [
        {
          "output_type": "stream",
          "name": "stdout",
          "text": [
            "Requirement already satisfied: catboost in /usr/local/lib/python3.7/dist-packages (1.0.5)\n",
            "Requirement already satisfied: plotly in /usr/local/lib/python3.7/dist-packages (from catboost) (5.5.0)\n",
            "Requirement already satisfied: matplotlib in /usr/local/lib/python3.7/dist-packages (from catboost) (3.2.2)\n",
            "Requirement already satisfied: numpy>=1.16.0 in /usr/local/lib/python3.7/dist-packages (from catboost) (1.21.5)\n",
            "Requirement already satisfied: scipy in /usr/local/lib/python3.7/dist-packages (from catboost) (1.4.1)\n",
            "Requirement already satisfied: pandas>=0.24.0 in /usr/local/lib/python3.7/dist-packages (from catboost) (1.3.5)\n",
            "Requirement already satisfied: graphviz in /usr/local/lib/python3.7/dist-packages (from catboost) (0.10.1)\n",
            "Requirement already satisfied: six in /usr/local/lib/python3.7/dist-packages (from catboost) (1.15.0)\n",
            "Requirement already satisfied: pytz>=2017.3 in /usr/local/lib/python3.7/dist-packages (from pandas>=0.24.0->catboost) (2018.9)\n",
            "Requirement already satisfied: python-dateutil>=2.7.3 in /usr/local/lib/python3.7/dist-packages (from pandas>=0.24.0->catboost) (2.8.2)\n",
            "Requirement already satisfied: cycler>=0.10 in /usr/local/lib/python3.7/dist-packages (from matplotlib->catboost) (0.11.0)\n",
            "Requirement already satisfied: kiwisolver>=1.0.1 in /usr/local/lib/python3.7/dist-packages (from matplotlib->catboost) (1.4.2)\n",
            "Requirement already satisfied: pyparsing!=2.0.4,!=2.1.2,!=2.1.6,>=2.0.1 in /usr/local/lib/python3.7/dist-packages (from matplotlib->catboost) (3.0.8)\n",
            "Requirement already satisfied: typing-extensions in /usr/local/lib/python3.7/dist-packages (from kiwisolver>=1.0.1->matplotlib->catboost) (4.1.1)\n",
            "Requirement already satisfied: tenacity>=6.2.0 in /usr/local/lib/python3.7/dist-packages (from plotly->catboost) (8.0.1)\n"
          ]
        }
      ]
    },
    {
      "cell_type": "code",
      "execution_count": 147,
      "id": "e7c6089d",
      "metadata": {
        "id": "e7c6089d"
      },
      "outputs": [],
      "source": [
        "#Import data\n",
        "df = pd.read_csv('/content/drive/MyDrive/minProject/203_course_project/training.1600000.processed.noemoticon.csv', header=None,encoding='latin-1',usecols=[0,5],names=['sentiment','tweet'])"
      ]
    },
    {
      "cell_type": "code",
      "execution_count": null,
      "id": "512fa291",
      "metadata": {
        "colab": {
          "base_uri": "https://localhost:8080/"
        },
        "id": "512fa291",
        "outputId": "85348ab2-1337-42bf-d7b3-ca99bf9e0fcf"
      },
      "outputs": [
        {
          "output_type": "stream",
          "name": "stdout",
          "text": [
            "(1600000, 2)\n"
          ]
        }
      ],
      "source": [
        "print(df.shape)\n"
      ]
    },
    {
      "cell_type": "code",
      "source": [
        "df['sentiment'].value_counts()"
      ],
      "metadata": {
        "colab": {
          "base_uri": "https://localhost:8080/"
        },
        "id": "_T4n0plXB1OV",
        "outputId": "0011390b-23fe-4495-a3af-de1d27e56986"
      },
      "id": "_T4n0plXB1OV",
      "execution_count": null,
      "outputs": [
        {
          "output_type": "execute_result",
          "data": {
            "text/plain": [
              "0    800000\n",
              "4    800000\n",
              "Name: sentiment, dtype: int64"
            ]
          },
          "metadata": {},
          "execution_count": 78
        }
      ]
    },
    {
      "cell_type": "code",
      "execution_count": null,
      "id": "6b37ba48",
      "metadata": {
        "colab": {
          "base_uri": "https://localhost:8080/"
        },
        "id": "6b37ba48",
        "outputId": "30f54cf2-3652-457d-ea15-299a536565e4"
      },
      "outputs": [
        {
          "output_type": "stream",
          "name": "stdout",
          "text": [
            "<class 'pandas.core.frame.DataFrame'>\n",
            "RangeIndex: 1600000 entries, 0 to 1599999\n",
            "Data columns (total 2 columns):\n",
            " #   Column     Non-Null Count    Dtype \n",
            "---  ------     --------------    ----- \n",
            " 0   sentiment  1600000 non-null  int64 \n",
            " 1   tweet      1600000 non-null  object\n",
            "dtypes: int64(1), object(1)\n",
            "memory usage: 24.4+ MB\n"
          ]
        }
      ],
      "source": [
        "df.info()"
      ]
    },
    {
      "cell_type": "code",
      "execution_count": null,
      "id": "b1050e95",
      "metadata": {
        "id": "b1050e95",
        "outputId": "f7ec7bc6-3c90-4612-879b-a3c90d283bc1",
        "colab": {
          "base_uri": "https://localhost:8080/",
          "height": 300
        }
      },
      "outputs": [
        {
          "output_type": "execute_result",
          "data": {
            "text/plain": [
              "          sentiment\n",
              "count  1.600000e+06\n",
              "mean   2.000000e+00\n",
              "std    2.000001e+00\n",
              "min    0.000000e+00\n",
              "25%    0.000000e+00\n",
              "50%    2.000000e+00\n",
              "75%    4.000000e+00\n",
              "max    4.000000e+00"
            ],
            "text/html": [
              "\n",
              "  <div id=\"df-dec45d1a-2ba1-4c74-a1b0-c2670f4d83a9\">\n",
              "    <div class=\"colab-df-container\">\n",
              "      <div>\n",
              "<style scoped>\n",
              "    .dataframe tbody tr th:only-of-type {\n",
              "        vertical-align: middle;\n",
              "    }\n",
              "\n",
              "    .dataframe tbody tr th {\n",
              "        vertical-align: top;\n",
              "    }\n",
              "\n",
              "    .dataframe thead th {\n",
              "        text-align: right;\n",
              "    }\n",
              "</style>\n",
              "<table border=\"1\" class=\"dataframe\">\n",
              "  <thead>\n",
              "    <tr style=\"text-align: right;\">\n",
              "      <th></th>\n",
              "      <th>sentiment</th>\n",
              "    </tr>\n",
              "  </thead>\n",
              "  <tbody>\n",
              "    <tr>\n",
              "      <th>count</th>\n",
              "      <td>1.600000e+06</td>\n",
              "    </tr>\n",
              "    <tr>\n",
              "      <th>mean</th>\n",
              "      <td>2.000000e+00</td>\n",
              "    </tr>\n",
              "    <tr>\n",
              "      <th>std</th>\n",
              "      <td>2.000001e+00</td>\n",
              "    </tr>\n",
              "    <tr>\n",
              "      <th>min</th>\n",
              "      <td>0.000000e+00</td>\n",
              "    </tr>\n",
              "    <tr>\n",
              "      <th>25%</th>\n",
              "      <td>0.000000e+00</td>\n",
              "    </tr>\n",
              "    <tr>\n",
              "      <th>50%</th>\n",
              "      <td>2.000000e+00</td>\n",
              "    </tr>\n",
              "    <tr>\n",
              "      <th>75%</th>\n",
              "      <td>4.000000e+00</td>\n",
              "    </tr>\n",
              "    <tr>\n",
              "      <th>max</th>\n",
              "      <td>4.000000e+00</td>\n",
              "    </tr>\n",
              "  </tbody>\n",
              "</table>\n",
              "</div>\n",
              "      <button class=\"colab-df-convert\" onclick=\"convertToInteractive('df-dec45d1a-2ba1-4c74-a1b0-c2670f4d83a9')\"\n",
              "              title=\"Convert this dataframe to an interactive table.\"\n",
              "              style=\"display:none;\">\n",
              "        \n",
              "  <svg xmlns=\"http://www.w3.org/2000/svg\" height=\"24px\"viewBox=\"0 0 24 24\"\n",
              "       width=\"24px\">\n",
              "    <path d=\"M0 0h24v24H0V0z\" fill=\"none\"/>\n",
              "    <path d=\"M18.56 5.44l.94 2.06.94-2.06 2.06-.94-2.06-.94-.94-2.06-.94 2.06-2.06.94zm-11 1L8.5 8.5l.94-2.06 2.06-.94-2.06-.94L8.5 2.5l-.94 2.06-2.06.94zm10 10l.94 2.06.94-2.06 2.06-.94-2.06-.94-.94-2.06-.94 2.06-2.06.94z\"/><path d=\"M17.41 7.96l-1.37-1.37c-.4-.4-.92-.59-1.43-.59-.52 0-1.04.2-1.43.59L10.3 9.45l-7.72 7.72c-.78.78-.78 2.05 0 2.83L4 21.41c.39.39.9.59 1.41.59.51 0 1.02-.2 1.41-.59l7.78-7.78 2.81-2.81c.8-.78.8-2.07 0-2.86zM5.41 20L4 18.59l7.72-7.72 1.47 1.35L5.41 20z\"/>\n",
              "  </svg>\n",
              "      </button>\n",
              "      \n",
              "  <style>\n",
              "    .colab-df-container {\n",
              "      display:flex;\n",
              "      flex-wrap:wrap;\n",
              "      gap: 12px;\n",
              "    }\n",
              "\n",
              "    .colab-df-convert {\n",
              "      background-color: #E8F0FE;\n",
              "      border: none;\n",
              "      border-radius: 50%;\n",
              "      cursor: pointer;\n",
              "      display: none;\n",
              "      fill: #1967D2;\n",
              "      height: 32px;\n",
              "      padding: 0 0 0 0;\n",
              "      width: 32px;\n",
              "    }\n",
              "\n",
              "    .colab-df-convert:hover {\n",
              "      background-color: #E2EBFA;\n",
              "      box-shadow: 0px 1px 2px rgba(60, 64, 67, 0.3), 0px 1px 3px 1px rgba(60, 64, 67, 0.15);\n",
              "      fill: #174EA6;\n",
              "    }\n",
              "\n",
              "    [theme=dark] .colab-df-convert {\n",
              "      background-color: #3B4455;\n",
              "      fill: #D2E3FC;\n",
              "    }\n",
              "\n",
              "    [theme=dark] .colab-df-convert:hover {\n",
              "      background-color: #434B5C;\n",
              "      box-shadow: 0px 1px 3px 1px rgba(0, 0, 0, 0.15);\n",
              "      filter: drop-shadow(0px 1px 2px rgba(0, 0, 0, 0.3));\n",
              "      fill: #FFFFFF;\n",
              "    }\n",
              "  </style>\n",
              "\n",
              "      <script>\n",
              "        const buttonEl =\n",
              "          document.querySelector('#df-dec45d1a-2ba1-4c74-a1b0-c2670f4d83a9 button.colab-df-convert');\n",
              "        buttonEl.style.display =\n",
              "          google.colab.kernel.accessAllowed ? 'block' : 'none';\n",
              "\n",
              "        async function convertToInteractive(key) {\n",
              "          const element = document.querySelector('#df-dec45d1a-2ba1-4c74-a1b0-c2670f4d83a9');\n",
              "          const dataTable =\n",
              "            await google.colab.kernel.invokeFunction('convertToInteractive',\n",
              "                                                     [key], {});\n",
              "          if (!dataTable) return;\n",
              "\n",
              "          const docLinkHtml = 'Like what you see? Visit the ' +\n",
              "            '<a target=\"_blank\" href=https://colab.research.google.com/notebooks/data_table.ipynb>data table notebook</a>'\n",
              "            + ' to learn more about interactive tables.';\n",
              "          element.innerHTML = '';\n",
              "          dataTable['output_type'] = 'display_data';\n",
              "          await google.colab.output.renderOutput(dataTable, element);\n",
              "          const docLink = document.createElement('div');\n",
              "          docLink.innerHTML = docLinkHtml;\n",
              "          element.appendChild(docLink);\n",
              "        }\n",
              "      </script>\n",
              "    </div>\n",
              "  </div>\n",
              "  "
            ]
          },
          "metadata": {},
          "execution_count": 10
        }
      ],
      "source": [
        "df.describe()"
      ]
    },
    {
      "cell_type": "markdown",
      "id": "498d16f4",
      "metadata": {
        "id": "498d16f4"
      },
      "source": [
        "# Test train split"
      ]
    },
    {
      "cell_type": "code",
      "execution_count": 212,
      "id": "62de4400",
      "metadata": {
        "colab": {
          "base_uri": "https://localhost:8080/"
        },
        "id": "62de4400",
        "outputId": "fed231e4-4b15-44e9-f567-5b2380770611"
      },
      "outputs": [
        {
          "output_type": "stream",
          "name": "stdout",
          "text": [
            "(1600000, 2)\n",
            "(1280000, 2)\n"
          ]
        },
        {
          "output_type": "execute_result",
          "data": {
            "text/plain": [
              "tweet\n",
              "isPlayer Has Died! Sorry                                                                                                                                               182\n",
              "good morning                                                                                                                                                            97\n",
              "Good morning                                                                                                                                                            91\n",
              "Headache                                                                                                                                                                90\n",
              "headache                                                                                                                                                                88\n",
              "                                                                                                                                                                      ... \n",
              "@louisebolotin  I've never understood what handsome means... I quite enjoyed Torchwood but the teeth became too much for me!                                             1\n",
              "@louisebolo yeah no worries. hope to see ya around                                                                                                                       1\n",
              "@louisebolo great! btw, did u receive my sms?                                                                                                                            1\n",
              "@louisebolo awwww...  i meant to say earlier; ENJOY THEIR STAY WITH YOUUUU!!!!!                                                                                          1\n",
              "ï¿½ï¿½ï¿½ï¿½ï¿½ß§ï¿½Ç¿ï¿½ï¿½ï¿½ï¿½ï¿½Ð¶ï¿½Øï¿½ï¿½ï¿½ &lt;&lt;----I DID NOT KNOW I CUD or HOW TO DO ALL DAT ON MY PHONE TIL NOW. WOW..MY LIFE IS NOW COMPLETE.  JK.      1\n",
              "Length: 1266565, dtype: int64"
            ]
          },
          "metadata": {},
          "execution_count": 212
        }
      ],
      "source": [
        "from sklearn.model_selection import train_test_split \n",
        "dfsplit = df#.fillna(value=9999)\n",
        "df_train_strat, df_test_strat = train_test_split(dfsplit, test_size=0.1, random_state=42,stratify = dfsplit[\"sentiment\"])"
      ]
    },
    {
      "cell_type": "code",
      "source": [
        "plt.figure(figsize = (4,4))\n",
        "sns.countplot(data = df , x = df['sentiment'], palette = 'PuBuGn_r' )\n",
        "plt.title('polarity distribution',weight = 'bold', color = 'black')\n",
        "plt.ylabel(\"count\")\n",
        "plt.xlabel(\"polarity\")\n",
        "plt.tight_layout()"
      ],
      "metadata": {
        "colab": {
          "base_uri": "https://localhost:8080/",
          "height": 297
        },
        "id": "XxLfNQ674sTF",
        "outputId": "4dbebc12-bac5-4a75-df27-2daf90cd187c"
      },
      "id": "XxLfNQ674sTF",
      "execution_count": 244,
      "outputs": [
        {
          "output_type": "display_data",
          "data": {
            "text/plain": [
              "<Figure size 288x288 with 1 Axes>"
            ],
            "image/png": "[encoded data removed]"
          },
          "metadata": {}
        }
      ]
    },
    {
      "cell_type": "markdown",
      "source": [
        "#Data Cleaning"
      ],
      "metadata": {
        "id": "DQn79uVNYqc_"
      },
      "id": "DQn79uVNYqc_"
    },
    {
      "cell_type": "code",
      "source": [
        "nltk.download(\"stopwords\")\n",
        "stop = set(stopwords.words('english'))\n",
        "punctuation = list(string.punctuation)\n",
        "stop.update(punctuation)"
      ],
      "metadata": {
        "colab": {
          "base_uri": "https://localhost:8080/"
        },
        "id": "d1I98sLydhkn",
        "outputId": "b629fa80-8e3d-49f3-ff25-a69f32f22b33"
      },
      "id": "d1I98sLydhkn",
      "execution_count": 177,
      "outputs": [
        {
          "output_type": "stream",
          "name": "stdout",
          "text": [
            "[nltk_data] Downloading package stopwords to /root/nltk_data...\n",
            "[nltk_data]   Package stopwords is already up-to-date!\n"
          ]
        }
      ]
    },
    {
      "cell_type": "code",
      "source": [
        "emojis = {':)': 'smile', ':-)': 'smile', ';d': 'wink', ':-E': 'vampire', ':(': 'sad', \n",
        "          ':-(': 'sad', ':-<': 'sad', ':P': 'raspberry', ':O': 'surprised',\n",
        "          ':-@': 'shocked', ':@': 'shocked',':-$': 'confused', ':\\\\': 'annoyed', \n",
        "          ':#': 'mute', ':X': 'mute', ':^)': 'smile', ':-&': 'confused', '$_$': 'greedy',\n",
        "          '@@': 'eyeroll', ':-!': 'confused', ':-D': 'smile', ':-0': 'yell', 'O.o': 'confused',\n",
        "          '<(-_-)>': 'robot', 'd[-_-]b': 'dj', \":'-)\": 'sadsmile', ';)': 'wink', \n",
        "          ';-)': 'wink', 'O:-)': 'angel','O*-)': 'angel','(:-D': 'gossip', '=^.^=': 'cat'}"
      ],
      "metadata": {
        "id": "ni2JRXuzTSPm"
      },
      "id": "ni2JRXuzTSPm",
      "execution_count": 151,
      "outputs": []
    },
    {
      "cell_type": "code",
      "source": [
        "def eliminate_html(text):\n",
        "    soup = BeautifulSoup(text, \"html.parser\")\n",
        "    return soup.get_text()\n",
        "def eliminate_square_brackets(tweet):\n",
        "    return re.sub('\\[[^]]*\\]', '', tweet)\n",
        "def eliminate_url(tweet):\n",
        "    return re.sub(r'http\\S+', '', tweet)\n",
        "def eliminate_stopwords(tweet):\n",
        "    sentence = []\n",
        "    for i in tweet.split():\n",
        "        if i.strip().lower() not in stop:\n",
        "            sentence.append(i.strip())\n",
        "    return \" \".join(sentence)\n",
        "def eliminate_annote(tweet):\n",
        "  return ' '.join(re.sub(\"(@[A-Za-z0-9]+)|(\\w+:\\/\\/\\S+)\",\" \",tweet).split())\n",
        "def parse_emoticons(tweet):\n",
        "  for emoji in emojis.keys():\n",
        "    tweet = tweet.replace(emoji, \"EMOJI\" + emojis[emoji])\n",
        "  return tweet\n",
        "def retain_hashtags(s):\n",
        "  #return ' '.join(re.sub(\"(@[A-Za-z0-9]+)|(\\w+:\\/\\/\\S+)\",\" \",text).split())\n",
        "  #([^0-9A-Za-z!?.,:@ \\t])|\n",
        "  s = re.sub(r\":-?[()]|([^A-Za-z0-9])\", lambda x: \" \" if x.group(1) else x.group(), s) \n",
        "  s = re.sub(r\"(?<!:)(?<!:-)\\(\", \" \", s)\n",
        "  s = re.sub(r\"(?<!:)(?<!:-)\\)\", \" \", s)\n",
        "  s = s.lower()\n",
        "  return s\n",
        "#Removing the noisy text\n",
        "def denoise_text(text):\n",
        "    text = eliminate_html(text)\n",
        "    text = eliminate_square_brackets(text)\n",
        "    text = eliminate_annote(text)\n",
        "    text = parse_emoticons(text)\n",
        "    text = retain_hashtags(text)\n",
        "    text = eliminate_stopwords(text)\n",
        "    return text"
      ],
      "metadata": {
        "id": "lPMySMpiYp_8"
      },
      "id": "lPMySMpiYp_8",
      "execution_count": 211,
      "outputs": []
    },
    {
      "cell_type": "code",
      "source": [
        "df_train_strat.head(10)"
      ],
      "metadata": {
        "colab": {
          "base_uri": "https://localhost:8080/",
          "height": 363
        },
        "id": "fd9_hjqihKkA",
        "outputId": "44e8f4de-a279-4780-a788-68d95b90b574"
      },
      "id": "fd9_hjqihKkA",
      "execution_count": 214,
      "outputs": [
        {
          "output_type": "execute_result",
          "data": {
            "text/plain": [
              "         sentiment                                              tweet\n",
              "1036873          4  lol get ideas far advance even june yet need t...\n",
              "287781           0                                worst headache ever\n",
              "333391           0  sad wont see miss already yeah perfect come ba...\n",
              "1484559          4                                  know spell conked\n",
              "562778           0  stand one knows us get used get used gone miss...\n",
              "153773           0     oh yeah pray sammi shes going make past summer\n",
              "644479           0               says helloo guys desktop bugged help\n",
              "1377863          4  dipankar yet decided thing good place today night\n",
              "131970           0                      says aww last week na ng sepm\n",
              "282757           0             done sophomore year two yeeaaarsss meh"
            ],
            "text/html": [
              "\n",
              "  <div id=\"df-c12a2ece-6d55-4a61-8a0c-dd701cd17f3f\">\n",
              "    <div class=\"colab-df-container\">\n",
              "      <div>\n",
              "<style scoped>\n",
              "    .dataframe tbody tr th:only-of-type {\n",
              "        vertical-align: middle;\n",
              "    }\n",
              "\n",
              "    .dataframe tbody tr th {\n",
              "        vertical-align: top;\n",
              "    }\n",
              "\n",
              "    .dataframe thead th {\n",
              "        text-align: right;\n",
              "    }\n",
              "</style>\n",
              "<table border=\"1\" class=\"dataframe\">\n",
              "  <thead>\n",
              "    <tr style=\"text-align: right;\">\n",
              "      <th></th>\n",
              "      <th>sentiment</th>\n",
              "      <th>tweet</th>\n",
              "    </tr>\n",
              "  </thead>\n",
              "  <tbody>\n",
              "    <tr>\n",
              "      <th>1036873</th>\n",
              "      <td>4</td>\n",
              "      <td>lol get ideas far advance even june yet need t...</td>\n",
              "    </tr>\n",
              "    <tr>\n",
              "      <th>287781</th>\n",
              "      <td>0</td>\n",
              "      <td>worst headache ever</td>\n",
              "    </tr>\n",
              "    <tr>\n",
              "      <th>333391</th>\n",
              "      <td>0</td>\n",
              "      <td>sad wont see miss already yeah perfect come ba...</td>\n",
              "    </tr>\n",
              "    <tr>\n",
              "      <th>1484559</th>\n",
              "      <td>4</td>\n",
              "      <td>know spell conked</td>\n",
              "    </tr>\n",
              "    <tr>\n",
              "      <th>562778</th>\n",
              "      <td>0</td>\n",
              "      <td>stand one knows us get used get used gone miss...</td>\n",
              "    </tr>\n",
              "    <tr>\n",
              "      <th>153773</th>\n",
              "      <td>0</td>\n",
              "      <td>oh yeah pray sammi shes going make past summer</td>\n",
              "    </tr>\n",
              "    <tr>\n",
              "      <th>644479</th>\n",
              "      <td>0</td>\n",
              "      <td>says helloo guys desktop bugged help</td>\n",
              "    </tr>\n",
              "    <tr>\n",
              "      <th>1377863</th>\n",
              "      <td>4</td>\n",
              "      <td>dipankar yet decided thing good place today night</td>\n",
              "    </tr>\n",
              "    <tr>\n",
              "      <th>131970</th>\n",
              "      <td>0</td>\n",
              "      <td>says aww last week na ng sepm</td>\n",
              "    </tr>\n",
              "    <tr>\n",
              "      <th>282757</th>\n",
              "      <td>0</td>\n",
              "      <td>done sophomore year two yeeaaarsss meh</td>\n",
              "    </tr>\n",
              "  </tbody>\n",
              "</table>\n",
              "</div>\n",
              "      <button class=\"colab-df-convert\" onclick=\"convertToInteractive('df-c12a2ece-6d55-4a61-8a0c-dd701cd17f3f')\"\n",
              "              title=\"Convert this dataframe to an interactive table.\"\n",
              "              style=\"display:none;\">\n",
              "        \n",
              "  <svg xmlns=\"http://www.w3.org/2000/svg\" height=\"24px\"viewBox=\"0 0 24 24\"\n",
              "       width=\"24px\">\n",
              "    <path d=\"M0 0h24v24H0V0z\" fill=\"none\"/>\n",
              "    <path d=\"M18.56 5.44l.94 2.06.94-2.06 2.06-.94-2.06-.94-.94-2.06-.94 2.06-2.06.94zm-11 1L8.5 8.5l.94-2.06 2.06-.94-2.06-.94L8.5 2.5l-.94 2.06-2.06.94zm10 10l.94 2.06.94-2.06 2.06-.94-2.06-.94-.94-2.06-.94 2.06-2.06.94z\"/><path d=\"M17.41 7.96l-1.37-1.37c-.4-.4-.92-.59-1.43-.59-.52 0-1.04.2-1.43.59L10.3 9.45l-7.72 7.72c-.78.78-.78 2.05 0 2.83L4 21.41c.39.39.9.59 1.41.59.51 0 1.02-.2 1.41-.59l7.78-7.78 2.81-2.81c.8-.78.8-2.07 0-2.86zM5.41 20L4 18.59l7.72-7.72 1.47 1.35L5.41 20z\"/>\n",
              "  </svg>\n",
              "      </button>\n",
              "      \n",
              "  <style>\n",
              "    .colab-df-container {\n",
              "      display:flex;\n",
              "      flex-wrap:wrap;\n",
              "      gap: 12px;\n",
              "    }\n",
              "\n",
              "    .colab-df-convert {\n",
              "      background-color: #E8F0FE;\n",
              "      border: none;\n",
              "      border-radius: 50%;\n",
              "      cursor: pointer;\n",
              "      display: none;\n",
              "      fill: #1967D2;\n",
              "      height: 32px;\n",
              "      padding: 0 0 0 0;\n",
              "      width: 32px;\n",
              "    }\n",
              "\n",
              "    .colab-df-convert:hover {\n",
              "      background-color: #E2EBFA;\n",
              "      box-shadow: 0px 1px 2px rgba(60, 64, 67, 0.3), 0px 1px 3px 1px rgba(60, 64, 67, 0.15);\n",
              "      fill: #174EA6;\n",
              "    }\n",
              "\n",
              "    [theme=dark] .colab-df-convert {\n",
              "      background-color: #3B4455;\n",
              "      fill: #D2E3FC;\n",
              "    }\n",
              "\n",
              "    [theme=dark] .colab-df-convert:hover {\n",
              "      background-color: #434B5C;\n",
              "      box-shadow: 0px 1px 3px 1px rgba(0, 0, 0, 0.15);\n",
              "      filter: drop-shadow(0px 1px 2px rgba(0, 0, 0, 0.3));\n",
              "      fill: #FFFFFF;\n",
              "    }\n",
              "  </style>\n",
              "\n",
              "      <script>\n",
              "        const buttonEl =\n",
              "          document.querySelector('#df-c12a2ece-6d55-4a61-8a0c-dd701cd17f3f button.colab-df-convert');\n",
              "        buttonEl.style.display =\n",
              "          google.colab.kernel.accessAllowed ? 'block' : 'none';\n",
              "\n",
              "        async function convertToInteractive(key) {\n",
              "          const element = document.querySelector('#df-c12a2ece-6d55-4a61-8a0c-dd701cd17f3f');\n",
              "          const dataTable =\n",
              "            await google.colab.kernel.invokeFunction('convertToInteractive',\n",
              "                                                     [key], {});\n",
              "          if (!dataTable) return;\n",
              "\n",
              "          const docLinkHtml = 'Like what you see? Visit the ' +\n",
              "            '<a target=\"_blank\" href=https://colab.research.google.com/notebooks/data_table.ipynb>data table notebook</a>'\n",
              "            + ' to learn more about interactive tables.';\n",
              "          element.innerHTML = '';\n",
              "          dataTable['output_type'] = 'display_data';\n",
              "          await google.colab.output.renderOutput(dataTable, element);\n",
              "          const docLink = document.createElement('div');\n",
              "          docLink.innerHTML = docLinkHtml;\n",
              "          element.appendChild(docLink);\n",
              "        }\n",
              "      </script>\n",
              "    </div>\n",
              "  </div>\n",
              "  "
            ]
          },
          "metadata": {},
          "execution_count": 214
        }
      ]
    },
    {
      "cell_type": "code",
      "source": [
        "df_train_strat['tweet']=df_train_strat['tweet'].apply(denoise_text)"
      ],
      "metadata": {
        "id": "wsfqRBwtczil"
      },
      "id": "wsfqRBwtczil",
      "execution_count": 213,
      "outputs": []
    },
    {
      "cell_type": "code",
      "source": [
        "df_train_strat.head(10)"
      ],
      "metadata": {
        "id": "6GQkqvKEdvgA",
        "colab": {
          "base_uri": "https://localhost:8080/",
          "height": 363
        },
        "outputId": "615cd08e-5e33-4232-edb3-4941e3aa54c5"
      },
      "id": "6GQkqvKEdvgA",
      "execution_count": 181,
      "outputs": [
        {
          "output_type": "execute_result",
          "data": {
            "text/plain": [
              "         sentiment                                              tweet\n",
              "1036873          4  lol get ideas far advance? even june yet! need...\n",
              "287781           0                                worst headache ever\n",
              "333391           0  sad wont see you! miss already yeah! that's pe...\n",
              "1484559          4                                  know spell conked\n",
              "562778           0  stand one knows us get used get used gone miss...\n",
              "153773           0   oh yeah, pray sammi! shes going make past summer\n",
              "644479           0     says helloo guys desktop bugged down!!! help!!\n",
              "1377863          4  dipankar yet decided thing good place today night\n",
              "131970           0                      says aww last week na ng sepm\n",
              "282757           0            done sophomore year two yeeaaarsss meh!"
            ],
            "text/html": [
              "\n",
              "  <div id=\"df-b5f0c359-d022-4f55-92ec-a93c3c509db9\">\n",
              "    <div class=\"colab-df-container\">\n",
              "      <div>\n",
              "<style scoped>\n",
              "    .dataframe tbody tr th:only-of-type {\n",
              "        vertical-align: middle;\n",
              "    }\n",
              "\n",
              "    .dataframe tbody tr th {\n",
              "        vertical-align: top;\n",
              "    }\n",
              "\n",
              "    .dataframe thead th {\n",
              "        text-align: right;\n",
              "    }\n",
              "</style>\n",
              "<table border=\"1\" class=\"dataframe\">\n",
              "  <thead>\n",
              "    <tr style=\"text-align: right;\">\n",
              "      <th></th>\n",
              "      <th>sentiment</th>\n",
              "      <th>tweet</th>\n",
              "    </tr>\n",
              "  </thead>\n",
              "  <tbody>\n",
              "    <tr>\n",
              "      <th>1036873</th>\n",
              "      <td>4</td>\n",
              "      <td>lol get ideas far advance? even june yet! need...</td>\n",
              "    </tr>\n",
              "    <tr>\n",
              "      <th>287781</th>\n",
              "      <td>0</td>\n",
              "      <td>worst headache ever</td>\n",
              "    </tr>\n",
              "    <tr>\n",
              "      <th>333391</th>\n",
              "      <td>0</td>\n",
              "      <td>sad wont see you! miss already yeah! that's pe...</td>\n",
              "    </tr>\n",
              "    <tr>\n",
              "      <th>1484559</th>\n",
              "      <td>4</td>\n",
              "      <td>know spell conked</td>\n",
              "    </tr>\n",
              "    <tr>\n",
              "      <th>562778</th>\n",
              "      <td>0</td>\n",
              "      <td>stand one knows us get used get used gone miss...</td>\n",
              "    </tr>\n",
              "    <tr>\n",
              "      <th>153773</th>\n",
              "      <td>0</td>\n",
              "      <td>oh yeah, pray sammi! shes going make past summer</td>\n",
              "    </tr>\n",
              "    <tr>\n",
              "      <th>644479</th>\n",
              "      <td>0</td>\n",
              "      <td>says helloo guys desktop bugged down!!! help!!</td>\n",
              "    </tr>\n",
              "    <tr>\n",
              "      <th>1377863</th>\n",
              "      <td>4</td>\n",
              "      <td>dipankar yet decided thing good place today night</td>\n",
              "    </tr>\n",
              "    <tr>\n",
              "      <th>131970</th>\n",
              "      <td>0</td>\n",
              "      <td>says aww last week na ng sepm</td>\n",
              "    </tr>\n",
              "    <tr>\n",
              "      <th>282757</th>\n",
              "      <td>0</td>\n",
              "      <td>done sophomore year two yeeaaarsss meh!</td>\n",
              "    </tr>\n",
              "  </tbody>\n",
              "</table>\n",
              "</div>\n",
              "      <button class=\"colab-df-convert\" onclick=\"convertToInteractive('df-b5f0c359-d022-4f55-92ec-a93c3c509db9')\"\n",
              "              title=\"Convert this dataframe to an interactive table.\"\n",
              "              style=\"display:none;\">\n",
              "        \n",
              "  <svg xmlns=\"http://www.w3.org/2000/svg\" height=\"24px\"viewBox=\"0 0 24 24\"\n",
              "       width=\"24px\">\n",
              "    <path d=\"M0 0h24v24H0V0z\" fill=\"none\"/>\n",
              "    <path d=\"M18.56 5.44l.94 2.06.94-2.06 2.06-.94-2.06-.94-.94-2.06-.94 2.06-2.06.94zm-11 1L8.5 8.5l.94-2.06 2.06-.94-2.06-.94L8.5 2.5l-.94 2.06-2.06.94zm10 10l.94 2.06.94-2.06 2.06-.94-2.06-.94-.94-2.06-.94 2.06-2.06.94z\"/><path d=\"M17.41 7.96l-1.37-1.37c-.4-.4-.92-.59-1.43-.59-.52 0-1.04.2-1.43.59L10.3 9.45l-7.72 7.72c-.78.78-.78 2.05 0 2.83L4 21.41c.39.39.9.59 1.41.59.51 0 1.02-.2 1.41-.59l7.78-7.78 2.81-2.81c.8-.78.8-2.07 0-2.86zM5.41 20L4 18.59l7.72-7.72 1.47 1.35L5.41 20z\"/>\n",
              "  </svg>\n",
              "      </button>\n",
              "      \n",
              "  <style>\n",
              "    .colab-df-container {\n",
              "      display:flex;\n",
              "      flex-wrap:wrap;\n",
              "      gap: 12px;\n",
              "    }\n",
              "\n",
              "    .colab-df-convert {\n",
              "      background-color: #E8F0FE;\n",
              "      border: none;\n",
              "      border-radius: 50%;\n",
              "      cursor: pointer;\n",
              "      display: none;\n",
              "      fill: #1967D2;\n",
              "      height: 32px;\n",
              "      padding: 0 0 0 0;\n",
              "      width: 32px;\n",
              "    }\n",
              "\n",
              "    .colab-df-convert:hover {\n",
              "      background-color: #E2EBFA;\n",
              "      box-shadow: 0px 1px 2px rgba(60, 64, 67, 0.3), 0px 1px 3px 1px rgba(60, 64, 67, 0.15);\n",
              "      fill: #174EA6;\n",
              "    }\n",
              "\n",
              "    [theme=dark] .colab-df-convert {\n",
              "      background-color: #3B4455;\n",
              "      fill: #D2E3FC;\n",
              "    }\n",
              "\n",
              "    [theme=dark] .colab-df-convert:hover {\n",
              "      background-color: #434B5C;\n",
              "      box-shadow: 0px 1px 3px 1px rgba(0, 0, 0, 0.15);\n",
              "      filter: drop-shadow(0px 1px 2px rgba(0, 0, 0, 0.3));\n",
              "      fill: #FFFFFF;\n",
              "    }\n",
              "  </style>\n",
              "\n",
              "      <script>\n",
              "        const buttonEl =\n",
              "          document.querySelector('#df-b5f0c359-d022-4f55-92ec-a93c3c509db9 button.colab-df-convert');\n",
              "        buttonEl.style.display =\n",
              "          google.colab.kernel.accessAllowed ? 'block' : 'none';\n",
              "\n",
              "        async function convertToInteractive(key) {\n",
              "          const element = document.querySelector('#df-b5f0c359-d022-4f55-92ec-a93c3c509db9');\n",
              "          const dataTable =\n",
              "            await google.colab.kernel.invokeFunction('convertToInteractive',\n",
              "                                                     [key], {});\n",
              "          if (!dataTable) return;\n",
              "\n",
              "          const docLinkHtml = 'Like what you see? Visit the ' +\n",
              "            '<a target=\"_blank\" href=https://colab.research.google.com/notebooks/data_table.ipynb>data table notebook</a>'\n",
              "            + ' to learn more about interactive tables.';\n",
              "          element.innerHTML = '';\n",
              "          dataTable['output_type'] = 'display_data';\n",
              "          await google.colab.output.renderOutput(dataTable, element);\n",
              "          const docLink = document.createElement('div');\n",
              "          docLink.innerHTML = docLinkHtml;\n",
              "          element.appendChild(docLink);\n",
              "        }\n",
              "      </script>\n",
              "    </div>\n",
              "  </div>\n",
              "  "
            ]
          },
          "metadata": {},
          "execution_count": 181
        }
      ]
    },
    {
      "cell_type": "markdown",
      "source": [
        "##Feature Engineering "
      ],
      "metadata": {
        "id": "ExH_FA83jeNj"
      },
      "id": "ExH_FA83jeNj"
    },
    {
      "cell_type": "code",
      "source": [
        "tweets = df_train_strat.tweet.values\n",
        "y_train = df_train_strat.sentiment.values\n",
        "from sklearn.feature_extraction.text import TfidfVectorizer\n",
        "tf_vectorizer = TfidfVectorizer(max_features=1500,ngram_range=(1,2))\n",
        "x_train = tf_vectorizer.fit_transform(tweets)"
      ],
      "metadata": {
        "id": "uL8APKwKjd75"
      },
      "id": "uL8APKwKjd75",
      "execution_count": 215,
      "outputs": []
    },
    {
      "cell_type": "markdown",
      "source": [
        "##Model Building"
      ],
      "metadata": {
        "id": "bjTzc6O8V6NN"
      },
      "id": "bjTzc6O8V6NN"
    },
    {
      "cell_type": "code",
      "source": [
        "from sklearn.naive_bayes import MultinomialNB\n",
        "clf = MultinomialNB()\n",
        "clf.fit(x_train, y_train)"
      ],
      "metadata": {
        "id": "u_pz2PfInJs2",
        "colab": {
          "base_uri": "https://localhost:8080/"
        },
        "outputId": "2a379663-b1c9-45d5-b697-239139bd8eb0"
      },
      "id": "u_pz2PfInJs2",
      "execution_count": 227,
      "outputs": [
        {
          "output_type": "execute_result",
          "data": {
            "text/plain": [
              "MultinomialNB()"
            ]
          },
          "metadata": {},
          "execution_count": 227
        }
      ]
    },
    {
      "cell_type": "code",
      "source": [
        "#clf = LogisticRegression()#(C = 2, max_iter = 1000, n_jobs=-1)\n",
        "#clf.fit(x_train, y_train)\n",
        "#model_Evaluate(LRmodel)\n"
      ],
      "metadata": {
        "id": "dIsqSCNJRvtj",
        "colab": {
          "base_uri": "https://localhost:8080/"
        },
        "outputId": "0cc2c397-5a52-454c-b9dd-170f439e47c8"
      },
      "id": "dIsqSCNJRvtj",
      "execution_count": 216,
      "outputs": [
        {
          "output_type": "execute_result",
          "data": {
            "text/plain": [
              "LogisticRegression()"
            ]
          },
          "metadata": {},
          "execution_count": 216
        }
      ]
    },
    {
      "cell_type": "code",
      "source": [
        "#CBC = CatBoostClassifier()\n",
        "# parameters = {'depth'         : [4,5,6,7,8,9,10],\n",
        "#               'learning_rate' : [0.01,0.2,0.6,1],\n",
        "#               'iterations'    : [10, 20,30,40,50,60,70,80,90, 100],\n",
        "#               'l2_leaf_reg' : [0.0001,1,15]}\n",
        "parameters = {'depth'         : [3],\n",
        "             'learning_rate' : [0.1],\n",
        "              'iterations'    : [100],\n",
        "              'l2_leaf_reg' : [0.08]}\n",
        "param_mnb = {\n",
        "    'alpha':[0.5,1]\n",
        "}\n",
        "param_logistic ={\n",
        "    'c':[1,2]\n",
        "}\n",
        "Grid_CBC = GridSearchCV(estimator=clf, \n",
        "                        param_grid = param_mnb, \n",
        "                        cv = 3, \n",
        "                        scoring=['roc_auc'],\n",
        "                        refit='roc_auc')\n",
        "\n",
        "Grid_CBC.fit(x_train, y_train)\n",
        "\n",
        "print(\" Results from Grid Search \" )\n",
        "print(\"\\n The best estimator across ALL searched params:\\n\",Grid_CBC.best_estimator_)\n",
        "print(\"\\n The best score across ALL searched params:\\n\",Grid_CBC.best_score_)\n",
        "print(\"\\n The best parameters across ALL searched params:\\n\",Grid_CBC.best_params_)   "
      ],
      "metadata": {
        "colab": {
          "base_uri": "https://localhost:8080/"
        },
        "id": "8OcwShQzK61t",
        "outputId": "c3831ee6-752d-40e6-e0ce-ac7e4318fc07"
      },
      "id": "8OcwShQzK61t",
      "execution_count": 229,
      "outputs": [
        {
          "output_type": "stream",
          "name": "stdout",
          "text": [
            " Results from Grid Search \n",
            "\n",
            " The best estimator across ALL searched params:\n",
            " MultinomialNB(alpha=1)\n",
            "\n",
            " The best score across ALL searched params:\n",
            " 0.8217025237540501\n",
            "\n",
            " The best parameters across ALL searched params:\n",
            " {'alpha': 1}\n"
          ]
        }
      ]
    },
    {
      "cell_type": "markdown",
      "source": [
        "#Test Modeling"
      ],
      "metadata": {
        "id": "DROOD0JA4sgd"
      },
      "id": "DROOD0JA4sgd"
    },
    {
      "cell_type": "code",
      "source": [
        "df_test_strat['tweet']=df_test_strat['tweet'].apply(denoise_text)"
      ],
      "metadata": {
        "id": "OQ0kEaSt3JgR"
      },
      "id": "OQ0kEaSt3JgR",
      "execution_count": 221,
      "outputs": []
    },
    {
      "cell_type": "code",
      "source": [
        "tweets = df_test_strat.tweet.values\n",
        "y_test = df_test_strat.sentiment.values\n",
        "#tf_vectorizer = TfidfVectorizer(max_features=1500)\n",
        "x_test = tf_vectorizer.transform(tweets)"
      ],
      "metadata": {
        "id": "wM4-QWBY5N8e"
      },
      "id": "wM4-QWBY5N8e",
      "execution_count": 222,
      "outputs": []
    },
    {
      "cell_type": "code",
      "source": [
        "tweets"
      ],
      "metadata": {
        "colab": {
          "base_uri": "https://localhost:8080/"
        },
        "id": "3XyIKovcncCY",
        "outputId": "3e5075a2-12cc-4956-c74a-5ec75d9e8e5d"
      },
      "id": "3XyIKovcncCY",
      "execution_count": 219,
      "outputs": [
        {
          "output_type": "execute_result",
          "data": {
            "text/plain": [
              "array(['denalie yes black red fav colors really wanted colors def looks awesome jared',\n",
              "       'qu buy open house weekend 11am 4pm best value one bedroom lic long island city 395000 1bd',\n",
              "       'fran greet air okay hahahaha thanks', ...,\n",
              "       'brat following also hope atleast get also wishes getting well soon',\n",
              "       'feel like decent swell since last fall hope waves myrtle beach week either least golf',\n",
              "       'relaxin busy day'], dtype=object)"
            ]
          },
          "metadata": {},
          "execution_count": 219
        }
      ]
    },
    {
      "cell_type": "code",
      "source": [
        "import seaborn as sns\n",
        "y_pred=clf.predict(x_test)\n",
        "print(classification_report(y_test, y_pred))\n",
        "\n",
        "# Compute and plot the Confusion matrix\n",
        "cf_matrix = confusion_matrix(y_test, y_pred)\n",
        "\n",
        "categories  = ['-ve','+ve']\n",
        "group_names = ['True -ve','False +ve', 'False -ve','True +ve']\n",
        "group_percentages = ['{0:.2%}'.format(value) for value in cf_matrix.flatten() / np.sum(cf_matrix)]\n",
        "\n",
        "labels = [f'{v1}\\n{v2}' for v1, v2 in zip(group_names,group_percentages)]\n",
        "labels = np.asarray(labels).reshape(2,2)\n",
        "\n",
        "sns.heatmap(cf_matrix, annot = labels, fmt = '',\n",
        "            xticklabels = categories, yticklabels = categories)\n",
        "\n",
        "plt.xlabel(\"Predicted values\", fontdict = {'size':14}, labelpad = 10)\n",
        "plt.ylabel(\"Actual values\"   , fontdict = {'size':14}, labelpad = 10)\n",
        "plt.title (\"Confusion Matrix\", fontdict = {'size':18}, pad = 20)\n",
        "\n",
        "#y_pred=Grid_CBC.predict(x_test)"
      ],
      "metadata": {
        "id": "0HycAfaA6Vxr",
        "colab": {
          "base_uri": "https://localhost:8080/",
          "height": 496
        },
        "outputId": "bbe16de7-5b36-4e4c-e19a-5ffc47b5b1da"
      },
      "id": "0HycAfaA6Vxr",
      "execution_count": 231,
      "outputs": [
        {
          "output_type": "stream",
          "name": "stdout",
          "text": [
            "              precision    recall  f1-score   support\n",
            "\n",
            "           0       0.73      0.75      0.74    160000\n",
            "           4       0.74      0.72      0.73    160000\n",
            "\n",
            "    accuracy                           0.74    320000\n",
            "   macro avg       0.74      0.74      0.74    320000\n",
            "weighted avg       0.74      0.74      0.74    320000\n",
            "\n"
          ]
        },
        {
          "output_type": "execute_result",
          "data": {
            "text/plain": [
              "Text(0.5, 1.0, 'Confusion Matrix')"
            ]
          },
          "metadata": {},
          "execution_count": 231
        },
        {
          "output_type": "display_data",
          "data": {
            "text/plain": [
              "<Figure size 432x288 with 2 Axes>"
            ],
            "image/png": "[encoded data removed]"
          },
          "metadata": {
            "needs_background": "light"
          }
        }
      ]
    },
    {
      "cell_type": "code",
      "source": [
        "from sklearn.metrics import classification_report, confusion_matrix\n",
        "from sklearn.metrics import (\n",
        "    accuracy_score,\n",
        "    balanced_accuracy_score,\n",
        "    roc_auc_score,\n",
        "    f1_score,\n",
        "    r2_score,\n",
        "    mean_squared_error,\n",
        ")\n",
        "report = classification_report(y_test, y_pred)\n",
        "print(report)\n",
        "#print(CAT_model.get_best_score())\n",
        "roc_auc = roc_auc_score(y_test, y_pred)\n",
        "print(roc_auc)\n"
      ],
      "metadata": {
        "colab": {
          "base_uri": "https://localhost:8080/"
        },
        "id": "vgxQ9wSG7G1s",
        "outputId": "d22f3dc9-c118-4692-e362-c4fa02616c4d"
      },
      "id": "vgxQ9wSG7G1s",
      "execution_count": 232,
      "outputs": [
        {
          "output_type": "stream",
          "name": "stdout",
          "text": [
            "              precision    recall  f1-score   support\n",
            "\n",
            "           0       0.73      0.75      0.74    160000\n",
            "           4       0.74      0.72      0.73    160000\n",
            "\n",
            "    accuracy                           0.74    320000\n",
            "   macro avg       0.74      0.74      0.74    320000\n",
            "weighted avg       0.74      0.74      0.74    320000\n",
            "\n",
            "0.737021875\n"
          ]
        }
      ]
    },
    {
      "cell_type": "code",
      "source": [
        "from sklearn.model_selection import cross_val_score\n",
        "print(cross_val_score(clf, x_train, y_train, scoring='roc_auc',cv=5))"
      ],
      "metadata": {
        "colab": {
          "base_uri": "https://localhost:8080/"
        },
        "id": "stQjsvyFH6na",
        "outputId": "2523d164-e0aa-4632-d15f-9c92226e1b04"
      },
      "id": "stQjsvyFH6na",
      "execution_count": 225,
      "outputs": [
        {
          "output_type": "stream",
          "name": "stdout",
          "text": [
            "[0.83253947 0.83260041 0.83179897 0.83190205 0.83318952]\n"
          ]
        }
      ]
    },
    {
      "cell_type": "code",
      "source": [
        "tweet=tf_vectorizer.transform([\"the movie is good but songs are bad\"])\n",
        "y=clf.predict(tweet)\n",
        "print(y)"
      ],
      "metadata": {
        "colab": {
          "base_uri": "https://localhost:8080/"
        },
        "id": "DnQmbgKNk8xX",
        "outputId": "b2e605fd-08c4-4a76-b308-3d66733eb88a"
      },
      "id": "DnQmbgKNk8xX",
      "execution_count": 204,
      "outputs": [
        {
          "output_type": "stream",
          "name": "stdout",
          "text": [
            "[4]\n"
          ]
        }
      ]
    },
    {
      "cell_type": "markdown",
      "source": [
        "## ROC_AUC graph"
      ],
      "metadata": {
        "id": "SZUR0cbrxYKW"
      },
      "id": "SZUR0cbrxYKW"
    },
    {
      "cell_type": "code",
      "source": [
        "pred_prob1 = clf.predict_proba(x_test)\n",
        "\n",
        "# roc curve for models\n",
        "fpr1, tpr1, thresh1 = roc_curve(y_test, pred_prob1[:,0], pos_label=0)\n",
        "fpr2, tpr2, thresh2 = roc_curve(y_test, pred_prob1[:,1], pos_label=4)\n",
        "\n",
        "# roc curve for tpr = fpr \n",
        "random_probs = [0 for i in range(len(y_test))]\n",
        "p_fpr, p_tpr, _ = roc_curve(y_test, random_probs, pos_label=1)\n",
        "plt.style.use('seaborn')\n",
        "\n",
        "# plot roc curves\n",
        "plt.plot(fpr1, tpr1, linestyle='-',color='blue', label='Class - Negative')\n",
        "plt.plot(fpr2, tpr2, linestyle='-',color='red', label='Class - Positve')\n",
        "plt.plot(p_fpr, p_tpr, linestyle='-', color='green')\n",
        "# title\n",
        "plt.title('ROC curve for DT')\n",
        "# x label\n",
        "plt.xlabel('False Positive Rate')\n",
        "# y label\n",
        "plt.ylabel('True Positive Rate')\n",
        "\n",
        "plt.legend(loc='best')\n",
        "plt.show(); \n"
      ],
      "metadata": {
        "colab": {
          "base_uri": "https://localhost:8080/",
          "height": 376
        },
        "id": "06gpJB6AxXlo",
        "outputId": "30fd42dc-c784-4268-db71-60fd8068dd18"
      },
      "id": "06gpJB6AxXlo",
      "execution_count": 235,
      "outputs": [
        {
          "output_type": "display_data",
          "data": {
            "text/plain": [
              "<Figure size 576x396 with 1 Axes>"
            ],
            "image/png": "[encoded data removed]"
          },
          "metadata": {}
        }
      ]
    }
  ],
  "metadata": {
    "kernelspec": {
      "display_name": "Python 3 (ipykernel)",
      "language": "python",
      "name": "python3"
    },
    "language_info": {
      "codemirror_mode": {
        "name": "ipython",
        "version": 3
      },
      "file_extension": ".py",
      "mimetype": "text/x-python",
      "name": "python",
      "nbconvert_exporter": "python",
      "pygments_lexer": "ipython3",
      "version": "3.9.7"
    },
    "colab": {
      "name": "DA203_Final_Project_Team8.ipynb",
      "provenance": []
    }
  },
  "nbformat": 4,
  "nbformat_minor": 5
}